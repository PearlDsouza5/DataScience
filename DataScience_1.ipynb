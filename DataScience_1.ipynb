{
 "cells": [
  {
   "cell_type": "code",
   "execution_count": 1,
   "id": "4c6ba8e6-c44b-499d-b645-0fe9e49e13bb",
   "metadata": {},
   "outputs": [
    {
     "name": "stdout",
     "output_type": "stream",
     "text": [
      "The original string is : Geeksforgeeks\n",
      "The reversed string(using loops) is : skeegrofskeeG\n"
     ]
    }
   ],
   "source": [
    "def reverse(s):\n",
    "\tstr = \"\"\n",
    "\tfor i in s:\n",
    "\t\tstr = i + str\n",
    "\treturn str\n",
    "\n",
    "s = \"Geeksforgeeks\"\n",
    "\n",
    "print(\"The original string is : \", end=\"\")\n",
    "print(s)\n",
    "\n",
    "print(\"The reversed string(using loops) is : \", end=\"\")\n",
    "print(reverse(s))\n"
   ]
  },
  {
   "cell_type": "code",
   "execution_count": 2,
   "id": "c26c4d36-8534-4862-8038-b89fcd841a4c",
   "metadata": {},
   "outputs": [
    {
     "name": "stdout",
     "output_type": "stream",
     "text": [
      "Yes\n"
     ]
    }
   ],
   "source": [
    "def isPalindrome(s):\n",
    "\treturn s == s[::-1]\n",
    "\n",
    "\n",
    "# Driver code\n",
    "s = \"malayalam\"\n",
    "ans = isPalindrome(s)\n",
    "\n",
    "if ans:\n",
    "\tprint(\"Yes\")\n",
    "else:\n",
    "\tprint(\"No\")\n"
   ]
  },
  {
   "cell_type": "code",
   "execution_count": 3,
   "id": "6cd1f4e8-fccd-43e8-8f1b-72197f455965",
   "metadata": {},
   "outputs": [
    {
     "name": "stdout",
     "output_type": "stream",
     "text": [
      "Largest element is: 99\n"
     ]
    }
   ],
   "source": [
    "list1 = [10, 20, 4, 45, 99]\n",
    "\n",
    "# sorting the list\n",
    "list1.sort()\n",
    "\n",
    "# printing the last element\n",
    "print(\"Largest element is:\", list1[-1])\n"
   ]
  },
  {
   "cell_type": "code",
   "execution_count": 4,
   "id": "87d0b7e7-256c-4032-8204-e48ddbceff7a",
   "metadata": {},
   "outputs": [
    {
     "name": "stdout",
     "output_type": "stream",
     "text": [
      "8 has occurred 5 times\n"
     ]
    }
   ],
   "source": [
    "\n",
    "def countX(lst, x):\n",
    "\tcount = 0\n",
    "\tfor ele in lst:\n",
    "\t\tif (ele == x):\n",
    "\t\t\tcount = count + 1\n",
    "\treturn count\n",
    "\n",
    "\n",
    "lst = [8, 6, 8, 10, 8, 20, 10, 8, 8]\n",
    "x = 8\n",
    "print('{} has occurred {} times'.format(x,\n",
    "\t\t\t\t\t\t\t\t\t\tcountX(lst, x)))\n"
   ]
  },
  {
   "cell_type": "code",
   "execution_count": 5,
   "id": "463575db-d6ff-481b-9a92-375871816c91",
   "metadata": {},
   "outputs": [
    {
     "name": "stdout",
     "output_type": "stream",
     "text": [
      "Second highest number is :  45\n"
     ]
    }
   ],
   "source": [
    "\n",
    "list1 = [10, 20, 4, 45, 99]\n",
    "\n",
    "mx = max(list1[0], list1[1])\n",
    "secondmax = min(list1[0], list1[1])\n",
    "n = len(list1)\n",
    "for i in range(2,n):\n",
    "\tif list1[i] > mx:\n",
    "\t\tsecondmax = mx\n",
    "\t\tmx = list1[i]\n",
    "\telif list1[i] > secondmax and \\\n",
    "\t\tmx != list1[i]:\n",
    "\t\tsecondmax = list1[i]\n",
    "\telif mx == secondmax and \\\n",
    "\t\tsecondmax != list1[i]:\n",
    "\t\tsecondmax = list1[i]\n",
    "\n",
    "print(\"Second highest number is : \",\\\n",
    "\tstr(secondmax))\n"
   ]
  },
  {
   "cell_type": "code",
   "execution_count": 6,
   "id": "294166ee-06e0-4aa7-a9d0-0c5f453714b4",
   "metadata": {},
   "outputs": [
    {
     "name": "stdout",
     "output_type": "stream",
     "text": [
      "Original List:  [1, 2, 4, 2, 1, 4, 5]\n",
      "List after removing duplicate elements:  [1, 2, 4, 5]\n"
     ]
    }
   ],
   "source": [
    "\n",
    "l = [1, 2, 4, 2, 1, 4, 5]\n",
    "print(\"Original List: \", l)\n",
    "res = [*set(l)]\n",
    "print(\"List after removing duplicate elements: \", res)\n"
   ]
  },
  {
   "cell_type": "code",
   "execution_count": 7,
   "id": "bf65fca3-db39-4210-9815-8450aeb03d47",
   "metadata": {},
   "outputs": [
    {
     "name": "stdout",
     "output_type": "stream",
     "text": [
      "Factorial of 5 is 120\n"
     ]
    }
   ],
   "source": [
    "\n",
    "def factorial(n):\n",
    "\t\n",
    "\tif n == 0:\n",
    "\t\treturn 1\n",
    "\t\n",
    "\treturn n * factorial(n-1)\n",
    "\n",
    "\n",
    "num = 5;\n",
    "print(\"Factorial of\", num, \"is\",\n",
    "factorial(num))\n",
    "\n",
    "\n"
   ]
  },
  {
   "cell_type": "code",
   "execution_count": 8,
   "id": "be6386a3-3c7e-435e-9296-3624ce92279e",
   "metadata": {},
   "outputs": [
    {
     "name": "stdout",
     "output_type": "stream",
     "text": [
      "11 is a prime number\n"
     ]
    }
   ],
   "source": [
    "num = 11\n",
    "\n",
    "if num > 1:\n",
    "\tfor i in range(2, int(num/2)+1):\n",
    "\n",
    "\t\tif (num % i) == 0:\n",
    "\t\t\tprint(num, \"is not a prime number\")\n",
    "\t\t\tbreak\n",
    "\telse:\n",
    "\t\tprint(num, \"is a prime number\")\n",
    "else:\n",
    "\tprint(num, \"is not a prime number\")\n"
   ]
  },
  {
   "cell_type": "code",
   "execution_count": 9,
   "id": "154e2760-2573-44b5-9427-52e5737b4c4b",
   "metadata": {},
   "outputs": [
    {
     "name": "stdout",
     "output_type": "stream",
     "text": [
      "None\n",
      "[1, 2, 3, 4]\n"
     ]
    }
   ],
   "source": [
    "numbers = [1, 3, 4, 2]\n",
    "\n",
    "# Sorting list of Integers in ascending\n",
    "print(numbers.sort())\n",
    "print(numbers)\t\t\t\t\t\n"
   ]
  },
  {
   "cell_type": "code",
   "execution_count": 10,
   "id": "e57a77ac-3675-4043-9d7e-e25925764083",
   "metadata": {},
   "outputs": [
    {
     "name": "stdout",
     "output_type": "stream",
     "text": [
      "Sum of all elements in given list:  74\n"
     ]
    }
   ],
   "source": [
    "\n",
    "\n",
    "total = 0\n",
    "\n",
    "\n",
    "list1 = [11, 5, 17, 18, 23]\n",
    "\n",
    "\n",
    "for ele in range(0, len(list1)):\n",
    "\ttotal = total + list1[ele]\n",
    "\n",
    "# printing total value\n",
    "print(\"Sum of all elements in given list: \", total)\n"
   ]
  },
  {
   "cell_type": "code",
   "execution_count": 11,
   "id": "af18c623-caea-4b92-8dc8-0af0e22834bc",
   "metadata": {},
   "outputs": [
    {
     "name": "stdout",
     "output_type": "stream",
     "text": [
      "{5}\n",
      "No common elements\n"
     ]
    }
   ],
   "source": [
    "\n",
    "def common_member(a, b):\n",
    "\ta_set = set(a)\n",
    "\tb_set = set(b)\n",
    "\n",
    "\tif (a_set & b_set):\n",
    "\t\tprint(a_set & b_set)\n",
    "\telse:\n",
    "\t\tprint(\"No common elements\")\n",
    "\t\t\n",
    "\n",
    "a = [1, 2, 3, 4, 5]\n",
    "b = [5, 6, 7, 8, 9]\n",
    "common_member(a, b)\n",
    "\n",
    "a = [1, 2, 3, 4, 5]\n",
    "b = [6, 7, 8, 9]\n",
    "common_member(a, b)\n"
   ]
  },
  {
   "cell_type": "code",
   "execution_count": 18,
   "id": "71cd2072-e168-4570-a1f1-4417387df5e6",
   "metadata": {},
   "outputs": [
    {
     "name": "stdout",
     "output_type": "stream",
     "text": [
      "race and care are anagram.\n"
     ]
    }
   ],
   "source": [
    "str1 = \"Race\"\n",
    "str2 = \"Care\"\n",
    "\n",
    "# convert both the strings into lowercase\n",
    "str1 = str1.lower()\n",
    "str2 = str2.lower()\n",
    "\n",
    "# check if length is same\n",
    "if(len(str1) == len(str2)):\n",
    "\n",
    "    # sort the strings\n",
    "    sorted_str1 = sorted(str1)\n",
    "    sorted_str2 = sorted(str2)\n",
    "\n",
    "    # if sorted char arrays are same\n",
    "    if(sorted_str1 == sorted_str2):\n",
    "        print(str1 + \" and \" + str2 + \" are anagram.\")\n",
    "    else:\n",
    "        print(str1 + \" and \" + str2 + \" are not anagram.\")\n",
    "\n",
    "else:\n",
    "    print(str1 + \" and \" + str2 + \" are not anagram.\")\n"
   ]
  },
  {
   "cell_type": "code",
   "execution_count": 19,
   "id": "c7274b71-5300-4098-9676-1713e500b98b",
   "metadata": {},
   "outputs": [
    {
     "name": "stdout",
     "output_type": "stream",
     "text": [
      "ABC\n",
      "ACB\n",
      "BAC\n",
      "BCA\n",
      "CBA\n",
      "CAB\n"
     ]
    }
   ],
   "source": [
    "\n",
    "def toString(List):\n",
    "\treturn ''.join(List)\n",
    "\n",
    "\n",
    "def permute(a, l, r):\n",
    "\tif l == r:\n",
    "\t\tprint (toString(a))\n",
    "\telse:\n",
    "\t\tfor i in range(l, r + 1):\n",
    "\t\t\ta[l], a[i] = a[i], a[l]\n",
    "\t\t\tpermute(a, l + 1, r)\n",
    "\n",
    "\t\t\t# backtrack\n",
    "\t\t\ta[l], a[i] = a[i], a[l]\n",
    "\n",
    "string = \"ABC\"\n",
    "n = len(string)\n",
    "a = list(string)\n",
    "permute(a, 0, n-1)\n",
    "\n"
   ]
  },
  {
   "cell_type": "code",
   "execution_count": 20,
   "id": "6f38bd1e-1ff6-4db8-85c7-8dd0ae22b150",
   "metadata": {},
   "outputs": [
    {
     "name": "stdout",
     "output_type": "stream",
     "text": [
      "34\n"
     ]
    }
   ],
   "source": [
    "\n",
    "\n",
    "\n",
    "def fibonacci(n):\n",
    "\ta = 0\n",
    "\tb = 1\n",
    "\tif n < 0:\n",
    "\t\tprint(\"Incorrect input\")\n",
    "\telif n == 0:\n",
    "\t\treturn a\n",
    "\telif n == 1:\n",
    "\t\treturn b\n",
    "\telse:\n",
    "\t\tfor i in range(2, n+1):\n",
    "\t\t\tc = a + b\n",
    "\t\t\ta = b\n",
    "\t\t\tb = c\n",
    "\t\treturn b\n",
    "\n",
    "\n",
    "\n",
    "\n",
    "print(fibonacci(9))\n",
    "\n",
    "\n"
   ]
  },
  {
   "cell_type": "code",
   "execution_count": 21,
   "id": "2808cde6-7bbf-4dbb-9e0f-5468968eecbb",
   "metadata": {},
   "outputs": [
    {
     "name": "stdout",
     "output_type": "stream",
     "text": [
      "The original list : [4, 5, 8, 9, 10, 17]\n",
      "Median of list is : 8.5\n"
     ]
    }
   ],
   "source": [
    "\n",
    "test_list = [4, 5, 8, 9, 10, 17]\n",
    "\n",
    "# printing list\n",
    "print(\"The original list : \" + str(test_list))\n",
    "\n",
    "\n",
    "test_list.sort()\n",
    "mid = len(test_list) // 2\n",
    "res = (test_list[mid] + test_list[~mid]) / 2\n",
    "\n",
    "\n",
    "print(\"Median of list is : \" + str(res))\n"
   ]
  },
  {
   "cell_type": "code",
   "execution_count": 22,
   "id": "d8b51da3-8d4d-4d66-998a-ab8c37e1462b",
   "metadata": {},
   "outputs": [
    {
     "name": "stdout",
     "output_type": "stream",
     "text": [
      "Yes\n"
     ]
    }
   ],
   "source": [
    "\n",
    "def arraySortedOrNot(arr):\n",
    "\n",
    "\t# Calculating length\n",
    "\tn = len(arr)\n",
    "\n",
    "\t\n",
    "\tif n == 1 or n == 0:\n",
    "\t\treturn True\n",
    "\n",
    "\t# Recursion applied till last element\n",
    "\treturn arr[0] <= arr[1] and arraySortedOrNot(arr[1:])\n",
    "\n",
    "\n",
    "arr = [20, 23, 23, 45, 78, 88]\n",
    "\n",
    "# Displaying result\n",
    "if arraySortedOrNot(arr):\n",
    "\tprint(\"Yes\")\n",
    "else:\n",
    "\tprint(\"No\")\n"
   ]
  },
  {
   "cell_type": "code",
   "execution_count": 23,
   "id": "2cd065f3-bfad-46ae-ac72-958bad214fdc",
   "metadata": {},
   "outputs": [
    {
     "name": "stdout",
     "output_type": "stream",
     "text": [
      "[9, 11, 26, 28]\n"
     ]
    }
   ],
   "source": [
    "\n",
    "def intersection(lst1, lst2):\n",
    "\tlst3 = [value for value in lst1 if value in lst2]\n",
    "\treturn lst3\n",
    "\n",
    "\n",
    "lst1 = [4, 9, 1, 17, 11, 26, 28, 54, 69]\n",
    "lst2 = [9, 9, 74, 21, 45, 11, 63, 28, 26]\n",
    "print(intersection(lst1, lst2))\n"
   ]
  },
  {
   "cell_type": "code",
   "execution_count": 28,
   "id": "409bd994-4d45-4796-a7de-6a6c22bae121",
   "metadata": {},
   "outputs": [
    {
     "name": "stdout",
     "output_type": "stream",
     "text": [
      "The sum of contiguous sublist with the largest sum is 6\n"
     ]
    }
   ],
   "source": [
    "def kadane(arr):\n",
    " \n",
    "   \n",
    "    max_so_far = 0\n",
    " \n",
    "   \n",
    "    max_ending_here = 0\n",
    " \n",
    "\n",
    "    for i in arr:\n",
    "      \n",
    "        max_ending_here = max_ending_here + i\n",
    " \n",
    "      \n",
    "        max_ending_here = max(max_ending_here, 0)\n",
    " \n",
    "       \n",
    "        max_so_far = max(max_so_far, max_ending_here)\n",
    " \n",
    "    return max_so_far\n",
    " \n",
    " \n",
    "if __name__ == '__main__':\n",
    " \n",
    "    arr = [-2, 1, -3, 4, -1, 2, 1, -5, 4]\n",
    " \n",
    "    print('The sum of contiguous sublist with the largest sum is',\n",
    "        kadane(arr))\n",
    " "
   ]
  },
  {
   "cell_type": "code",
   "execution_count": 29,
   "id": "8f3cc3a4-a57b-46f8-a7a1-aa2ac9e9195b",
   "metadata": {},
   "outputs": [
    {
     "name": "stdout",
     "output_type": "stream",
     "text": [
      "GksfrGks -  Cmptr Scnc Prtl fr Gks\n",
      "Lvng Pythn LL\n"
     ]
    }
   ],
   "source": [
    "\n",
    "def rem_vowel(string):\n",
    "\tvowels = ['a','e','i','o','u']\n",
    "\tresult = [letter for letter in string if letter.lower() not in vowels]\n",
    "\tresult = ''.join(result)\n",
    "\tprint(result)\n",
    "\n",
    "\n",
    "string = \"GeeksforGeeks - A Computer Science Portal for Geeks\"\n",
    "rem_vowel(string)\n",
    "string = \"Loving Python LOL\"\n",
    "rem_vowel(string)\n"
   ]
  },
  {
   "cell_type": "code",
   "execution_count": 30,
   "id": "aac4a07c-7ca4-475f-b334-e99e405edaf3",
   "metadata": {},
   "outputs": [
    {
     "name": "stdout",
     "output_type": "stream",
     "text": [
      "much very program this like i\n"
     ]
    }
   ],
   "source": [
    "\n",
    "\n",
    "\n",
    "def reverse_word(s, start, end):\n",
    "\twhile start < end:\n",
    "\t\ts[start], s[end] = s[end], s[start]\n",
    "\t\tstart = start + 1\n",
    "\t\tend -= 1\n",
    "\n",
    "\n",
    "s = \"i like this program very much\"\n",
    "\n",
    "# Convert string to list to use it as a char array\n",
    "s = list(s)\n",
    "start = 0\n",
    "while True:\n",
    "\n",
    "\n",
    "\ttry:\n",
    "\t\t# Find the next space\n",
    "\t\tend = s.index(' ', start)\n",
    "\n",
    "\t\t# Call reverse_word function\n",
    "\t\t# to reverse each word\n",
    "\t\treverse_word(s, start, end - 1)\n",
    "\n",
    "\t\t# Update start variable\n",
    "\t\tstart = end + 1\n",
    "\n",
    "\texcept ValueError:\n",
    "\n",
    "\t\t# Reverse the last word\n",
    "\t\treverse_word(s, start, len(s) - 1)\n",
    "\t\tbreak\n",
    "\n",
    "\n",
    "s.reverse()\n",
    "\n",
    "\n",
    "s = \"\".join(s)\n",
    "\n",
    "print(s)\n",
    "\n",
    "\n"
   ]
  },
  {
   "cell_type": "code",
   "execution_count": 31,
   "id": "0fcf6f58-54b3-46bd-b6a6-05607ddaef80",
   "metadata": {},
   "outputs": [
    {
     "name": "stdout",
     "output_type": "stream",
     "text": [
      "The strings are anagrams.\n"
     ]
    }
   ],
   "source": [
    "\n",
    "def check(s1, s2):\n",
    "\t\n",
    "\t# the sorted strings are checked\n",
    "\tif(sorted(s1)== sorted(s2)):\n",
    "\t\tprint(\"The strings are anagrams.\")\n",
    "\telse:\n",
    "\t\tprint(\"The strings aren't anagrams.\")\t\t\n",
    "\t\t\n",
    "# driver code\n",
    "s1 =\"listen\"\n",
    "s2 =\"silent\"\n",
    "check(s1, s2)\n"
   ]
  },
  {
   "cell_type": "code",
   "execution_count": 33,
   "id": "eb73cab0-81c6-4f81-b5c9-8389bf306ced",
   "metadata": {},
   "outputs": [
    {
     "name": "stdout",
     "output_type": "stream",
     "text": [
      "First non-repeating character is f\n"
     ]
    }
   ],
   "source": [
    "# Python program to print the first non-repeating character\n",
    "\n",
    "string = \"geeksforgeeks\"\n",
    "index = -1\n",
    "fnc = \"\"\n",
    "\n",
    "if len(string) == 0 :\n",
    "    print(\"EMTPY STRING\");\n",
    "\n",
    "for i in string:\n",
    "\tif string.count(i) == 1:\n",
    "\t\tfnc += i\n",
    "\t\tbreak\n",
    "\telse:\n",
    "\t\tindex += 1\n",
    "if index == len(string)-1 :\n",
    "\tprint(\"All characters are repeating \")\n",
    "else:\n",
    "\tprint(\"First non-repeating character is\", fnc)\n",
    "\n",
    "\n"
   ]
  },
  {
   "cell_type": "code",
   "execution_count": 37,
   "id": "7395f6a6-26a4-4ddf-a9f5-73b118fc4837",
   "metadata": {},
   "outputs": [
    {
     "name": "stdout",
     "output_type": "stream",
     "text": [
      "3\n",
      "3\n",
      "5\n",
      "7\n"
     ]
    }
   ],
   "source": [
    "\n",
    "\n",
    "import math\n",
    "\n",
    "\n",
    "def primeFactors(n):\n",
    "\t\n",
    "\t# Print the number of two's that divide n\n",
    "\twhile n % 2 == 0:\n",
    "\t\tprint(2),\n",
    "\t\tn = n / 2\n",
    "\t\t\n",
    "\t# n must be odd at this point\n",
    "\t# so a skip of 2 ( i = i + 2) can be used\n",
    "\tfor i in range(3,int(math.sqrt(n))+1,2):\n",
    "\t\t\n",
    "\t\t# while i divides n , print i and divide n\n",
    "\t\twhile n % i== 0:\n",
    "\t\t\tprint(i),\n",
    "\t\t\tn = n / i\n",
    "\t\t\t\n",
    "\n",
    "\tif n > 2:\n",
    "\t\tprint(n)\n",
    "\t\t\n",
    "\n",
    "\n",
    "n = 315\n",
    "primeFactors(n)\n",
    "\n"
   ]
  },
  {
   "cell_type": "code",
   "execution_count": 38,
   "id": "d537f0dc-d4f4-4dc3-b6f2-a2852a7c5e9c",
   "metadata": {},
   "outputs": [
    {
     "name": "stdout",
     "output_type": "stream",
     "text": [
      "No\n",
      "Yes\n"
     ]
    }
   ],
   "source": [
    "\n",
    "import math\n",
    "\n",
    "# Function to check\n",
    "# Log base 2\n",
    "\n",
    "\n",
    "def Log2(x):\n",
    "\tif x == 0:\n",
    "\t\treturn false\n",
    "\n",
    "\treturn (math.log10(x) /\n",
    "\t\t\tmath.log10(2))\n",
    "\n",
    "# Function to check\n",
    "# if x is power of 2\n",
    "\n",
    "\n",
    "def isPowerOfTwo(n):\n",
    "\treturn (math.ceil(Log2(n)) ==\n",
    "\t\t\tmath.floor(Log2(n)))\n",
    "\n",
    "\n",
    "\n",
    "if __name__ == \"__main__\":\n",
    "\n",
    "\t# Function call\n",
    "\tif(isPowerOfTwo(31)):\n",
    "\t\tprint(\"Yes\")\n",
    "\telse:\n",
    "\t\tprint(\"No\")\n",
    "\n",
    "\tif(isPowerOfTwo(64)):\n",
    "\t\tprint(\"Yes\")\n",
    "\telse:\n",
    "\t\tprint(\"No\")\n",
    "\n",
    "\n"
   ]
  },
  {
   "cell_type": "code",
   "execution_count": 39,
   "id": "c892ed02-3905-44e7-80b9-09d0cca4e605",
   "metadata": {},
   "outputs": [
    {
     "name": "stdout",
     "output_type": "stream",
     "text": [
      "The original list 1 is : [1, 5, 6, 9, 11]\n",
      "The original list 2 is : [3, 4, 7, 8, 10]\n",
      "The combined sorted list is : [1, 3, 4, 5, 6, 7, 8, 9, 10, 11]\n"
     ]
    }
   ],
   "source": [
    "\n",
    "# initializing lists\n",
    "test_list1 = [1, 5, 6, 9, 11]\n",
    "test_list2 = [3, 4, 7, 8, 10]\n",
    "\n",
    "# printing original lists\n",
    "print(\"The original list 1 is : \" + str(test_list1))\n",
    "print(\"The original list 2 is : \" + str(test_list2))\n",
    "\n",
    "\n",
    "size_1 = len(test_list1)\n",
    "size_2 = len(test_list2)\n",
    "\n",
    "res = []\n",
    "i, j = 0, 0\n",
    "\n",
    "while i < size_1 and j < size_2:\n",
    "\tif test_list1[i] < test_list2[j]:\n",
    "\t\tres.append(test_list1[i])\n",
    "\t\ti += 1\n",
    "\n",
    "\telse:\n",
    "\t\tres.append(test_list2[j])\n",
    "\t\tj += 1\n",
    "\n",
    "res = res + test_list1[i:] + test_list2[j:]\n",
    "\n",
    "\n",
    "print(\"The combined sorted list is : \" + str(res))\n"
   ]
  },
  {
   "cell_type": "code",
   "execution_count": 40,
   "id": "c5c861ea-b98d-42f8-920f-22b9f50024c2",
   "metadata": {},
   "outputs": [
    {
     "name": "stdout",
     "output_type": "stream",
     "text": [
      "Mean / Average is: 3.0\n"
     ]
    }
   ],
   "source": [
    "\n",
    "n_num = [1, 2, 3, 4, 5]\n",
    "n = len(n_num)\n",
    "\n",
    "get_sum = sum(n_num)\n",
    "mean = get_sum / n\n",
    "\n",
    "print(\"Mean / Average is: \" + str(mean))\n"
   ]
  },
  {
   "cell_type": "code",
   "execution_count": 41,
   "id": "18d84063-aed6-410a-a873-c28848bedc6d",
   "metadata": {},
   "outputs": [
    {
     "name": "stdout",
     "output_type": "stream",
     "text": [
      "GCD of 98 and 56 is 14\n"
     ]
    }
   ],
   "source": [
    "# Python program to find GCD of two numbers\n",
    "\n",
    "\n",
    "# Function to find gcd of two numbers\n",
    "def gcd(a, b):\n",
    "\n",
    "\t# Find minimum of a and b\n",
    "\tresult = min(a, b)\n",
    "\n",
    "\twhile result:\n",
    "\t\tif a % result == 0 and b % result == 0:\n",
    "\t\t\tbreak\n",
    "\t\tresult -= 1\n",
    "\n",
    "\t# Return the gcd of a and b\n",
    "\treturn result\n",
    "\n",
    "\n",
    "\n",
    "if __name__ == '__main__':\n",
    "\ta = 98\n",
    "\tb = 56\n",
    "\tprint(f\"GCD of {a} and {b} is {gcd(a, b)}\")\n",
    "\n",
    "\n",
    "\n"
   ]
  },
  {
   "cell_type": "code",
   "execution_count": 42,
   "id": "9e7b17d6-58ec-45e3-aa74-67eb8c825992",
   "metadata": {},
   "outputs": [
    {
     "name": "stdout",
     "output_type": "stream",
     "text": [
      "3\n"
     ]
    }
   ],
   "source": [
    "# Python3 program to find floor(sqrt(x)\n",
    "\n",
    "# Returns floor of square root of x\n",
    "\n",
    "\n",
    "def floorSqrt(x):\n",
    "\n",
    "\t# Base cases\n",
    "\tif (x == 0 or x == 1):\n",
    "\t\treturn x\n",
    "\n",
    "\t# Starting from 1, try all numbers until\n",
    "\t# i*i is greater than or equal to x.\n",
    "\ti = 1\n",
    "\tresult = 1\n",
    "\twhile (result <= x):\n",
    "\n",
    "\t\ti += 1\n",
    "\t\tresult = i * i\n",
    "\n",
    "\treturn i - 1\n",
    "\n",
    "\n",
    "x = 11\n",
    "print(floorSqrt(x))\n",
    "\n",
    "\n"
   ]
  },
  {
   "cell_type": "code",
   "execution_count": 43,
   "id": "cb48fe98-f5a9-4284-bba4-cbe760c2252c",
   "metadata": {},
   "outputs": [
    {
     "name": "stdout",
     "output_type": "stream",
     "text": [
      "Yes\n"
     ]
    }
   ],
   "source": [
    "\n",
    "def isPalindrome(str):\n",
    "\n",
    "\t# Run loop from 0 to len/2\n",
    "\tfor i in range(0, int(len(str)/2)):\n",
    "\t\tif str[i] != str[len(str)-i-1]:\n",
    "\t\t\treturn False\n",
    "\treturn True\n",
    "\n",
    "# main function\n",
    "s = \"malayalam\"\n",
    "ans = isPalindrome(s)\n",
    "\n",
    "if (ans):\n",
    "\tprint(\"Yes\")\n",
    "else:\n",
    "\tprint(\"No\")\n"
   ]
  },
  {
   "cell_type": "code",
   "execution_count": 44,
   "id": "3e3490ce-8a28-4b06-be99-9e1127f4cf87",
   "metadata": {},
   "outputs": [
    {
     "name": "stdout",
     "output_type": "stream",
     "text": [
      "1\n"
     ]
    }
   ],
   "source": [
    "# python3 code to implement the approach\n",
    "\n",
    "def findMin(arr, N):\n",
    "\t\n",
    "\tmin_ele = arr[0];\n",
    "\n",
    "\t# Traversing over array to\n",
    "\t# find minimum element\n",
    "\tfor i in range(N) :\n",
    "\t\tif arr[i] < min_ele :\n",
    "\t\t\tmin_ele = arr[i]\n",
    "\n",
    "\treturn min_ele;\n",
    "\n",
    "# Driver program\n",
    "arr = [5, 6, 1, 2, 3, 4]\n",
    "N = len(arr)\n",
    "\n",
    "print(findMin(arr,N))\n",
    "\n",
    "\n"
   ]
  },
  {
   "cell_type": "code",
   "execution_count": 45,
   "id": "8076fdf7-bb45-45bb-8b66-4468599b86a4",
   "metadata": {},
   "outputs": [
    {
     "name": "stdout",
     "output_type": "stream",
     "text": [
      "The original list is : [345, 893, 1948, 34, 2346]\n",
      "Odd digit sum : 36\n",
      "Even digit sum : 40\n"
     ]
    }
   ],
   "source": [
    "# initializing list\n",
    "test_list = [345, 893, 1948, 34, 2346]\n",
    "\n",
    "# printing original list\n",
    "print(\"The original list is : \" + str(test_list))\n",
    "\n",
    "odd_sum = 0\n",
    "even_sum = 0\n",
    "\n",
    "for sub in test_list:\n",
    "\tfor ele in str(sub):\n",
    "\t\t\n",
    "\t\t# adding in particular summation according to value\n",
    "\t\tif int(ele) % 2 == 0:\n",
    "\t\t\teven_sum += int(ele)\n",
    "\t\telse:\n",
    "\t\t\todd_sum += int(ele)\n",
    "\n",
    "# printing result\n",
    "print(\"Odd digit sum : \" + str(odd_sum))\n",
    "print(\"Even digit sum : \" + str(even_sum))\n"
   ]
  },
  {
   "cell_type": "code",
   "execution_count": 46,
   "id": "fba20c3b-6d8e-44af-a3c4-64e97180c937",
   "metadata": {},
   "outputs": [
    {
     "name": "stdout",
     "output_type": "stream",
     "text": [
      "25\n"
     ]
    }
   ],
   "source": [
    "# Python3 code to recursively find\n",
    "# the power of a number\n",
    "\n",
    "# Recursive function to find N^P.\n",
    "def power(N, P):\n",
    "\n",
    "\t# If power is 0 then return 1\n",
    "\t# if condition is true\n",
    "\t# only then it will enter it,\n",
    "\t# otherwise not\n",
    "\tif P == 0:\n",
    "\t\treturn 1\n",
    "\n",
    "\n",
    "\treturn (N*power(N, P-1))\n",
    "\n",
    "\n",
    "\n",
    "if __name__ == '__main__':\n",
    "\tN = 5\n",
    "\tP = 2\n",
    "\n",
    "\tprint(power(N, P))\n"
   ]
  },
  {
   "cell_type": "code",
   "execution_count": 47,
   "id": "e8addcb9-32fa-43a0-8a51-ee99fddaf3d6",
   "metadata": {},
   "outputs": [
    {
     "name": "stdout",
     "output_type": "stream",
     "text": [
      "Temp:  {1: None, 2: None, 3: None, 4: None, 5: None, 6: None, 7: None}\n",
      "Unique list:  [1, 2, 3, 4, 5, 6, 7]\n"
     ]
    }
   ],
   "source": [
    "original_list = [1, 1, 1, 2, 3, 3, 4, 4, 5, 6, 6, 7, 7, 7]\n",
    "temp = dict.fromkeys(original_list)\n",
    "print('Temp: ', temp)\n",
    "unique_list = list(temp)\n",
    "print('Unique list: ', unique_list)"
   ]
  },
  {
   "cell_type": "code",
   "execution_count": 48,
   "id": "13c28641-6792-4db3-b1e3-045e97e9b21b",
   "metadata": {},
   "outputs": [
    {
     "name": "stdout",
     "output_type": "stream",
     "text": [
      "The longest Common Prefix is : gee\n"
     ]
    }
   ],
   "source": [
    "\n",
    "def longestCommonPrefix( a):\n",
    "\t\n",
    "\tsize = len(a)\n",
    "\n",
    "\t# if size is 0, return empty string\n",
    "\tif (size == 0):\n",
    "\t\treturn \"\"\n",
    "\n",
    "\tif (size == 1):\n",
    "\t\treturn a[0]\n",
    "\n",
    "\t# sort the array of strings\n",
    "\ta.sort()\n",
    "\t\n",
    "\t# find the minimum length from\n",
    "\t# first and last string\n",
    "\tend = min(len(a[0]), len(a[size - 1]))\n",
    "\n",
    "\t# find the common prefix between\n",
    "\t# the first and last string\n",
    "\ti = 0\n",
    "\twhile (i < end and\n",
    "\t\ta[0][i] == a[size - 1][i]):\n",
    "\t\ti += 1\n",
    "\n",
    "\tpre = a[0][0: i]\n",
    "\treturn pre\n",
    "\n",
    "if __name__ == \"__main__\":\n",
    "\n",
    "\tinput = [\"geeksforgeeks\", \"geeks\",\n",
    "\t\t\t\t\t\"geek\", \"geezer\"]\n",
    "\tprint(\"The longest Common Prefix is :\" ,\n",
    "\t\t\t\tlongestCommonPrefix(input))\n",
    "\n",
    "\n"
   ]
  },
  {
   "cell_type": "code",
   "execution_count": 49,
   "id": "f67a2333-5c8b-4735-86cf-5197d4d286b7",
   "metadata": {},
   "outputs": [
    {
     "name": "stdout",
     "output_type": "stream",
     "text": [
      "No\n"
     ]
    }
   ],
   "source": [
    "\n",
    "import math\n",
    "\n",
    "\n",
    "def isPerfectSquare(x):\n",
    "\n",
    "\t#if x >= 0,\n",
    "\tif(x >= 0):\n",
    "\t\tsr = int(math.sqrt(x))\n",
    "\n",
    "\t\treturn ((sr*sr) == x)\n",
    "\treturn false\n",
    "\n",
    "# Driver code\n",
    "\n",
    "\n",
    "x = 2502\n",
    "if (isPerfectSquare(x)):\n",
    "\tprint(\"Yes\")\n",
    "else:\n",
    "\tprint(\"No\")"
   ]
  },
  {
   "cell_type": "code",
   "execution_count": 50,
   "id": "28fe5fa2-f786-45b9-a565-7e1f63eec108",
   "metadata": {},
   "outputs": [
    {
     "name": "stdout",
     "output_type": "stream",
     "text": [
      "6\n",
      "24\n"
     ]
    }
   ],
   "source": [
    "# Python program to multiply all values in the\n",
    "# list using traversal\n",
    "\n",
    "\n",
    "def multiplyList(myList):\n",
    "\n",
    "\t# Multiply elements one by one\n",
    "\tresult = 1\n",
    "\tfor x in myList:\n",
    "\t\tresult = result * x\n",
    "\treturn result\n",
    "\n",
    "\n",
    "list1 = [1, 2, 3]\n",
    "list2 = [3, 2, 4]\n",
    "print(multiplyList(list1))\n",
    "print(multiplyList(list2))\n"
   ]
  },
  {
   "cell_type": "code",
   "execution_count": 51,
   "id": "b57336ee-a074-4f0b-88e4-7695bff27351",
   "metadata": {},
   "outputs": [
    {
     "name": "stdout",
     "output_type": "stream",
     "text": [
      "code practice quiz geeks\n"
     ]
    }
   ],
   "source": [
    "\n",
    "string = \"geeks quiz practice code\"\n",
    "# reversing words in a given string\n",
    "s = string.split()[::-1]\n",
    "l = []\n",
    "for i in s:\n",
    "\t# appending reversed words to l\n",
    "\tl.append(i)\n",
    "\n",
    "print(\" \".join(l))\n"
   ]
  },
  {
   "cell_type": "code",
   "execution_count": 52,
   "id": "14332966-1d55-4dde-b10b-fa7f0be5e189",
   "metadata": {},
   "outputs": [
    {
     "name": "stdout",
     "output_type": "stream",
     "text": [
      "-6\n"
     ]
    }
   ],
   "source": [
    "# Python implementation of the approach\n",
    "\n",
    "# Function to return the missing element\n",
    "def findMissing(arr, n):\n",
    "\n",
    "\tl, h = 0, n - 1\n",
    "\tmid = 0\n",
    "\n",
    "\twhile (h > l):\n",
    "\n",
    "\t\tmid = l + (h - l) // 2\n",
    "\n",
    "\t\t# Check if middle element is consistent\n",
    "\t\tif (arr[mid] - mid == arr[0]):\n",
    "\n",
    "\t\t\t# No inconsistency till middle elements\n",
    "\t\t\t# When missing element is just after\n",
    "\t\t\t# the middle element\n",
    "\t\t\tif (arr[mid + 1] - arr[mid] > 1):\n",
    "\t\t\t\treturn arr[mid] + 1\n",
    "\t\t\telse:\n",
    "\n",
    "\t\t\t\t# Move right\n",
    "\t\t\t\tl = mid + 1\n",
    "\t\t\t\n",
    "\t\telse:\n",
    "\n",
    "\t\t\t# Inconsistency found\n",
    "\t\t\t# When missing element is just before\n",
    "\t\t\t# the middle element\n",
    "\t\t\tif (arr[mid] - arr[mid - 1] > 1):\n",
    "\t\t\t\treturn arr[mid] - 1\n",
    "\t\t\telse:\n",
    "\n",
    "\t\t\t\t# Move left\n",
    "\t\t\t\th = mid - 1\n",
    "\t\t\t\n",
    "\t# No missing element found\n",
    "\treturn -1\n",
    "\n",
    "# Driver code\n",
    "arr = [-9, -8, -7, -5, -4, -3, -2, -1, 0 ]\n",
    "n = len(arr)\n",
    "\n",
    "print(findMissing(arr, n))\n"
   ]
  },
  {
   "cell_type": "code",
   "execution_count": 53,
   "id": "5ef4f010-0a1b-423e-924a-afbd96b94c84",
   "metadata": {},
   "outputs": [
    {
     "name": "stdout",
     "output_type": "stream",
     "text": [
      "21\n"
     ]
    }
   ],
   "source": [
    "# Python 3 program to\n",
    "# compute sum of digits in\n",
    "# number.\n",
    "\n",
    "# Function to get sum of digits\n",
    "\n",
    "\n",
    "def getSum(n):\n",
    "\n",
    "\tsum = 0\n",
    "\twhile (n != 0):\n",
    "\n",
    "\t\tsum = sum + int(n % 10)\n",
    "\t\tn = int(n/10)\n",
    "\n",
    "\treturn sum\n",
    "\n",
    "\n",
    "# Driver code\n",
    "if __name__ == \"__main__\":\n",
    "\tn = 687\n",
    "\n",
    "\t# Function call\n",
    "\tprint(getSum(n))\n"
   ]
  },
  {
   "cell_type": "code",
   "execution_count": 54,
   "id": "9eec250e-5980-4cce-a1a9-20c3876592b2",
   "metadata": {},
   "outputs": [
    {
     "name": "stdout",
     "output_type": "stream",
     "text": [
      "1\n"
     ]
    }
   ],
   "source": [
    "\n",
    "\n",
    "def solution(A): # Our original array\n",
    "\n",
    "\tm = max(A) # Storing maximum value\n",
    "\tif m < 1:\n",
    "\n",
    "\t\t# In case all values in our array are negative\n",
    "\t\treturn 1\n",
    "\tif len(A) == 1:\n",
    "\n",
    "\t\t# If it contains only one element\n",
    "\t\treturn 2 if A[0] == 1 else 1\n",
    "\tl = [0] * m\n",
    "\tfor i in range(len(A)):\n",
    "\t\tif A[i] > 0:\n",
    "\t\t\tif l[A[i] - 1] != 1:\n",
    "\n",
    "\t\t\t\t# Changing the value status at the index of our list\n",
    "\t\t\t\tl[A[i] - 1] = 1\n",
    "\tfor i in range(len(l)):\n",
    "\n",
    "\t\t# Encountering first 0, i.e, the element with least value\n",
    "\t\tif l[i] == 0:\n",
    "\t\t\treturn i + 1\n",
    "\t\t\t# In case all values are filled between 1 and m\n",
    "\treturn i + 2\n",
    "\n",
    "\n",
    "\n",
    "if __name__ == '__main__':\n",
    "\tarr = [0, 10, 2, -10, -20]\n",
    "\tprint(solution(arr))\n"
   ]
  },
  {
   "cell_type": "code",
   "execution_count": 55,
   "id": "8db6e1d9-f664-499e-a6ce-25d35afd10bb",
   "metadata": {},
   "outputs": [
    {
     "name": "stdout",
     "output_type": "stream",
     "text": [
      "Longest palindrome substring is: geeksskeeg\n",
      "Length is: 10\n"
     ]
    }
   ],
   "source": [
    "\n",
    "def printSubStr(str, low, high):\n",
    "\tfor i in range(low, high + 1):\n",
    "\t\tprint(str[i], end=\"\")\n",
    "\n",
    "\n",
    "# This function prints the\n",
    "# longest palindrome subString\n",
    "# It also returns the length\n",
    "# of the longest palindrome\n",
    "def longestPalSubstr(str):\n",
    "\n",
    "\t# Get length of input String\n",
    "\tn = len(str)\n",
    "\n",
    "\t# All subStrings of length 1\n",
    "\t# are palindromes\n",
    "\tmaxLength = 1\n",
    "\tstart = 0\n",
    "\n",
    "\t# Nested loop to mark start\n",
    "\t# and end index\n",
    "\tfor i in range(n):\n",
    "\t\tfor j in range(i, n):\n",
    "\t\t\tflag = 1\n",
    "\n",
    "\t\t\t# Check palindrome\n",
    "\t\t\tfor k in range(0, ((j - i) // 2) + 1):\n",
    "\t\t\t\tif (str[i + k] != str[j - k]):\n",
    "\t\t\t\t\tflag = 0\n",
    "\n",
    "\t\t\t# Palindrome\n",
    "\t\t\tif (flag != 0 and (j - i + 1) > maxLength):\n",
    "\t\t\t\tstart = i\n",
    "\t\t\t\tmaxLength = j - i + 1\n",
    "\n",
    "\tprint(\"Longest palindrome substring is: \", end=\"\")\n",
    "\tprintSubStr(str, start, start + maxLength - 1)\n",
    "\n",
    "\t# Return length of LPS\n",
    "\treturn maxLength\n",
    "\n",
    "\n",
    "# Driver Code\n",
    "if __name__ == '__main__':\n",
    "\n",
    "\tstr = \"forgeeksskeegfor\"\n",
    "\tprint(\"\\nLength is:\", longestPalSubstr(str))\n",
    "\n"
   ]
  },
  {
   "cell_type": "code",
   "execution_count": 56,
   "id": "f281b188-0743-4c60-a104-5ed061b0fc7c",
   "metadata": {},
   "outputs": [
    {
     "name": "stdout",
     "output_type": "stream",
     "text": [
      "8 has occurred 5 times\n"
     ]
    }
   ],
   "source": [
    "\n",
    "def countX(lst, x):\n",
    "\tcount = 0\n",
    "\tfor ele in lst:\n",
    "\t\tif (ele == x):\n",
    "\t\t\tcount = count + 1\n",
    "\treturn count\n",
    "\n",
    "\n",
    "lst = [8, 6, 8, 10, 8, 20, 10, 8, 8]\n",
    "x = 8\n",
    "print('{} has occurred {} times'.format(x,\n",
    "\t\t\t\t\t\t\t\t\t\tcountX(lst, x)))\n"
   ]
  },
  {
   "cell_type": "code",
   "execution_count": 57,
   "id": "760fcf67-8882-4d01-8938-a5e0083c181b",
   "metadata": {},
   "outputs": [
    {
     "name": "stdout",
     "output_type": "stream",
     "text": [
      "Below are all perfect numbers till 10000\n",
      "6  is a perfect number\n",
      "28  is a perfect number\n",
      "496  is a perfect number\n",
      "8128  is a perfect number\n"
     ]
    }
   ],
   "source": [
    "\n",
    "def isPerfect( n ):\n",
    "\t\n",
    "\t# To store sum of divisors\n",
    "\tsum = 1\n",
    "\t\n",
    "\t# Find all divisors and add them\n",
    "\ti = 2\n",
    "\twhile i * i <= n:\n",
    "\t\tif n % i == 0:\n",
    "\t\t\tsum = sum + i + n/i\n",
    "\t\ti += 1\n",
    "\t\n",
    "\t# If sum of divisors is equal to\n",
    "\t# n, then n is a perfect number\n",
    "\t\n",
    "\treturn (True if sum == n and n!=1 else False)\n",
    "\n",
    "# Driver program\n",
    "print(\"Below are all perfect numbers till 10000\")\n",
    "n = 2\n",
    "for n in range (10000):\n",
    "\tif isPerfect (n):\n",
    "\t\tprint(n , \" is a perfect number\")\n",
    "\t\t\n"
   ]
  },
  {
   "cell_type": "code",
   "execution_count": 59,
   "id": "bc56980d-8351-4cad-8b36-aa01f71c97f5",
   "metadata": {},
   "outputs": [
    {
     "name": "stdout",
     "output_type": "stream",
     "text": [
      "geksfor"
     ]
    }
   ],
   "source": [
    "string=\"geeksforgeeks\"\n",
    "k2=[]\n",
    "for ele in string:\n",
    "\tif ele not in k2:\n",
    "\t\tk2.append(ele)\n",
    "for i in range(0,len(k2)):\n",
    "\tprint(k2[i],end=\"\")\n"
   ]
  },
  {
   "cell_type": "code",
   "execution_count": 60,
   "id": "826a1546-60f9-4cff-9cfa-37fa0423d155",
   "metadata": {},
   "outputs": [
    {
     "name": "stdout",
     "output_type": "stream",
     "text": [
      "1\n"
     ]
    }
   ],
   "source": [
    "\n",
    "def solution(A): # Our original array\n",
    "\n",
    "\tm = max(A) # Storing maximum value\n",
    "\tif m < 1:\n",
    "\n",
    "\t\t# In case all values in our array are negative\n",
    "\t\treturn 1\n",
    "\tif len(A) == 1:\n",
    "\n",
    "\t\t# If it contains only one element\n",
    "\t\treturn 2 if A[0] == 1 else 1\n",
    "\tl = [0] * m\n",
    "\tfor i in range(len(A)):\n",
    "\t\tif A[i] > 0:\n",
    "\t\t\tif l[A[i] - 1] != 1:\n",
    "\n",
    "\t\t\t\t# Changing the value status at the index of our list\n",
    "\t\t\t\tl[A[i] - 1] = 1\n",
    "\tfor i in range(len(l)):\n",
    "\n",
    "\t\t# Encountering first 0, i.e, the element with least value\n",
    "\t\tif l[i] == 0:\n",
    "\t\t\treturn i + 1\n",
    "\t\t\t# In case all values are filled between 1 and m\n",
    "\treturn i + 2\n",
    "\n",
    "\n",
    "# Driver Code\n",
    "if __name__ == '__main__':\n",
    "\tarr = [0, 10, 2, -10, -20]\n",
    "\tprint(solution(arr))\n"
   ]
  },
  {
   "cell_type": "code",
   "execution_count": null,
   "id": "4f5f858c-0d5a-43bc-a0d7-3f8d22fdddba",
   "metadata": {},
   "outputs": [],
   "source": []
  }
 ],
 "metadata": {
  "kernelspec": {
   "display_name": "Python 3 (ipykernel)",
   "language": "python",
   "name": "python3"
  },
  "language_info": {
   "codemirror_mode": {
    "name": "ipython",
    "version": 3
   },
   "file_extension": ".py",
   "mimetype": "text/x-python",
   "name": "python",
   "nbconvert_exporter": "python",
   "pygments_lexer": "ipython3",
   "version": "3.10.6"
  }
 },
 "nbformat": 4,
 "nbformat_minor": 5
}
